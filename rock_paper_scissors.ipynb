{
  "nbformat": 4,
  "nbformat_minor": 0,
  "metadata": {
    "kernelspec": {
      "display_name": "Python 3",
      "language": "python",
      "name": "python3"
    },
    "language_info": {
      "codemirror_mode": {
        "name": "ipython",
        "version": 3
      },
      "file_extension": ".py",
      "mimetype": "text/x-python",
      "name": "python",
      "nbconvert_exporter": "python",
      "pygments_lexer": "ipython3",
      "version": "3.7.2"
    },
    "colab": {
      "name": "rock-paper-scissors.ipynb",
      "provenance": [],
      "collapsed_sections": [],
      "include_colab_link": true
    }
  },
  "cells": [
    {
      "cell_type": "markdown",
      "metadata": {
        "id": "view-in-github",
        "colab_type": "text"
      },
      "source": [
        "<a href=\"https://colab.research.google.com/github/carolvieirav/data-prework.resolutions/blob/master/rock_paper_scissors.ipynb\" target=\"_parent\"><img src=\"https://colab.research.google.com/assets/colab-badge.svg\" alt=\"Open In Colab\"/></a>"
      ]
    },
    {
      "cell_type": "markdown",
      "metadata": {
        "id": "tnUcX5g4pK4I",
        "colab_type": "text"
      },
      "source": [
        "<img src=\"https://bit.ly/2VnXWr2\" width=\"100\" align=\"left\">"
      ]
    },
    {
      "cell_type": "markdown",
      "metadata": {
        "id": "isfIQ2lopK4U",
        "colab_type": "text"
      },
      "source": [
        "# Rock, Paper & Scissors\n",
        "\n",
        "Let's play the famous game against our computer. You can check the rules [here](https://en.wikipedia.org/wiki/Rock%E2%80%93paper%E2%80%93scissors). \n",
        "\n",
        "## Task\n",
        "Create a program that imitates the playability of the well known game of rock, paper, scissors. Follow the guidelines provided.\n",
        "\n",
        "## Tools\n",
        "1. Loop: **for/while**\n",
        "2. Functions: **input(), print()...**\n",
        "3. Conditional statements: **if, elif, else**\n",
        "4. Definition of functions. Modular programming\n",
        "5. Import modules\n",
        "\n",
        "**To solve this challenge, the use of functions is recommended.**\n",
        "\n",
        "#### 1. Import the choice function of the random module."
      ]
    },
    {
      "cell_type": "code",
      "metadata": {
        "id": "IL_RvGsppK4b",
        "colab_type": "code",
        "colab": {}
      },
      "source": [
        "from random import choice"
      ],
      "execution_count": 0,
      "outputs": []
    },
    {
      "cell_type": "markdown",
      "metadata": {
        "id": "0PtKokrzpK4x",
        "colab_type": "text"
      },
      "source": [
        "#### 2. Create a list that includes the 3 possible gesture options of the game: 'rock', 'paper' or 'scissors'. Store the list in a variable called `gestures`."
      ]
    },
    {
      "cell_type": "code",
      "metadata": {
        "id": "uosumSdppK40",
        "colab_type": "code",
        "colab": {}
      },
      "source": [
        "gestures = [\"rock\", \"paper\",\"scissors\"]"
      ],
      "execution_count": 0,
      "outputs": []
    },
    {
      "cell_type": "markdown",
      "metadata": {
        "id": "eoAQBn4npK5B",
        "colab_type": "text"
      },
      "source": [
        "#### 3. Create a variable called `n_rounds` to store the maximum number of rounds to play in a game. \n",
        "Remember that the number of rounds must be odd: 1, 3, 5, ..."
      ]
    },
    {
      "cell_type": "code",
      "metadata": {
        "id": "RP5FUJj77wk0",
        "colab_type": "code",
        "outputId": "74f646ea-5f41-4999-fb94-58d4452ac34f",
        "colab": {
          "base_uri": "https://localhost:8080/",
          "height": 35
        }
      },
      "source": [
        "max_rounds = int(input(\"Type the number of rounds: \"))\n",
        "if max_rounds % 2 == 0:\n",
        "  print(\"The number of rounds must be odd\")\n",
        "else:\n",
        "  n_rounds = max_rounds"
      ],
      "execution_count": 0,
      "outputs": [
        {
          "output_type": "stream",
          "text": [
            "Type the number of rounds: 9\n"
          ],
          "name": "stdout"
        }
      ]
    },
    {
      "cell_type": "markdown",
      "metadata": {
        "id": "PBcdvTIxpK5S",
        "colab_type": "text"
      },
      "source": [
        "#### 4. Create a variable called `rounds_to_win` to store the number of rounds that a player must win to win the game.\n",
        "**Hint**: the value stored in `rounds_to_win` depends on the value of `n_rounds`. "
      ]
    },
    {
      "cell_type": "code",
      "metadata": {
        "id": "Z6dZrn0bpK5W",
        "colab_type": "code",
        "colab": {}
      },
      "source": [
        "rounds_to_win = int((n_rounds / 2) + 1)"
      ],
      "execution_count": 0,
      "outputs": []
    },
    {
      "cell_type": "markdown",
      "metadata": {
        "id": "zswVy2_bpK5k",
        "colab_type": "text"
      },
      "source": [
        "#### 5. Create two variables to store the number of rounds that the computer and the player have won. Call these variables `cpu_score` and `player_score`."
      ]
    },
    {
      "cell_type": "code",
      "metadata": {
        "id": "ti_xygvrpK5n",
        "colab_type": "code",
        "colab": {}
      },
      "source": [
        "cpu_score = 0\n",
        "player_score = 0"
      ],
      "execution_count": 0,
      "outputs": []
    },
    {
      "cell_type": "markdown",
      "metadata": {
        "id": "wLaQgRRppK5x",
        "colab_type": "text"
      },
      "source": [
        "#### 6. Define a function that randomly returns one of the 3 gesture options.\n",
        "You will use this function to simulate the gesture choice of the computer. "
      ]
    },
    {
      "cell_type": "code",
      "metadata": {
        "id": "_awzgh-YpK51",
        "colab_type": "code",
        "colab": {}
      },
      "source": [
        "import random \n",
        "\n",
        "def cpu_gesture():\n",
        "  return random.choice(gestures)"
      ],
      "execution_count": 0,
      "outputs": []
    },
    {
      "cell_type": "markdown",
      "metadata": {
        "id": "Saj4kyQepK6A",
        "colab_type": "text"
      },
      "source": [
        "#### 7. Define a function that asks the player which is the gesture he or she wants to show: 'rock', 'paper' or 'scissors'.\n",
        "The player should only be allowed to choose one of the 3 gesture options. If the player's choice is not rock, paper or scissors, keep asking until it is."
      ]
    },
    {
      "cell_type": "code",
      "metadata": {
        "id": "qs_eDoMvpK6E",
        "colab_type": "code",
        "colab": {}
      },
      "source": [
        "def player_gesture():\n",
        "  player_gesture = \"\"\n",
        "  while not player_gesture in gestures:\n",
        "    player_gesture = input(\"Enter rock, paper or scissors: \")\n",
        "    return player_gesture"
      ],
      "execution_count": 0,
      "outputs": []
    },
    {
      "cell_type": "markdown",
      "metadata": {
        "id": "7oMv7d6fpK6M",
        "colab_type": "text"
      },
      "source": [
        "#### 8. Define a function that checks who won a round. \n",
        "The function should return 0 if there is a tie, 1 if the computer wins and 2 if the player wins."
      ]
    },
    {
      "cell_type": "code",
      "metadata": {
        "id": "ev6rz5jtpK6P",
        "colab_type": "code",
        "colab": {}
      },
      "source": [
        "outcomes = {\"rock\": {\"paper\":2,\"scissors\":1,\"rock\":0}, \n",
        "           \"paper\": {\"rock\":1,\"scissors\":2,\"paper\":0},\n",
        "            \"scissors\": {\"paper\":1,\"rock\":2,\"scissors\":0}}\n",
        "\n",
        "def check_round(cpu_gesture, player_gesture):\n",
        "  if outcomes[cpu_gesture][player_gesture] == 2:\n",
        "    return 2\n",
        "  elif outcomes[cpu_gesture][player_gesture] == 1:\n",
        "    return 1\n",
        "  else:\n",
        "    return 0"
      ],
      "execution_count": 0,
      "outputs": []
    },
    {
      "cell_type": "markdown",
      "metadata": {
        "id": "IlBe1-40pK6Z",
        "colab_type": "text"
      },
      "source": [
        "#### 9. Define a function that prints the choice of the computer, the choice of the player and a message that announces who won the current round. \n",
        "You should also use this function to update the variables that count the number of rounds that the computer and the player have won. The score of the winner increases by one point. If there is a tie, the score does not increase."
      ]
    },
    {
      "cell_type": "markdown",
      "metadata": {
        "id": "_9CKBpKlLNHq",
        "colab_type": "text"
      },
      "source": [
        ""
      ]
    },
    {
      "cell_type": "code",
      "metadata": {
        "id": "Ov6XacJqpK6e",
        "colab_type": "code",
        "colab": {}
      },
      "source": [
        "def current_round():\n",
        "\n",
        "  global cpu_score\n",
        "  global player_score\n",
        "  \n",
        "  player_g = player_gesture()\n",
        "  print(\"Player's gesture is \", player_g)\n",
        "  cpu_g = cpu_gesture()\n",
        "  print(\"CPU's gesture is \", cpu_g)\n",
        "\n",
        "  cpu_score = 0\n",
        "  player_score = 0\n",
        "\n",
        "  if check_round(player_g,cpu_g) == 1:\n",
        "    cpu_score += 1\n",
        "    print(\"CPU won the round!\")\n",
        "  elif check_round(player_g,cpu_g) == 2:\n",
        "    player_score += 1\n",
        "    print(\"Player won the round!\")\n",
        "  else:\n",
        "    print(\"Tie!\")"
      ],
      "execution_count": 0,
      "outputs": []
    },
    {
      "cell_type": "markdown",
      "metadata": {
        "id": "QoA89dbSpK6p",
        "colab_type": "text"
      },
      "source": [
        "#### 10. Now it's time to code the execution of the game using the functions and variables you defined above. \n",
        "\n",
        "First, create a loop structure that repeats while no player reaches the minimum score necessary to win and the number of rounds is less than the maximum number of rounds to play in a game.  \n",
        "\n",
        "Inside the loop, use the functions and variables above to create the execution of a round: ask for the player's choice, generate the random choice of the computer, show the round results, update the scores, etc. "
      ]
    },
    {
      "cell_type": "code",
      "metadata": {
        "id": "IQ2_hgz9pK6s",
        "colab_type": "code",
        "colab": {}
      },
      "source": [
        "print(str(n_rounds) + \" rounds, \" + str(rounds_to_win) + \" rounds to win!\")\n",
        "\n",
        "for i in range (0,n_rounds):\n",
        "  current_round()\n",
        "  if player_score == rounds_to_win or cpu_score == rounds_to_win:\n",
        "    break"
      ],
      "execution_count": 0,
      "outputs": []
    },
    {
      "cell_type": "markdown",
      "metadata": {
        "id": "rGuGwVfqpK62",
        "colab_type": "text"
      },
      "source": [
        "#### 11. Print the winner of the game based on who won more rounds.\n",
        "Remember that the game might be tied. "
      ]
    },
    {
      "cell_type": "code",
      "metadata": {
        "id": "z_v-xqNApK66",
        "colab_type": "code",
        "colab": {}
      },
      "source": [
        "if player_score > cpu_score:\n",
        "    print(\"Player won the game!\")\n",
        "elif cpu_score > player_score:\n",
        "    print(\"CPU won the game!\")\n",
        "else:\n",
        "    print(\"Tie\")"
      ],
      "execution_count": 0,
      "outputs": []
    },
    {
      "cell_type": "markdown",
      "metadata": {
        "id": "x-8Rm2DSpK7D",
        "colab_type": "text"
      },
      "source": [
        "# Bonus: Rock, Paper, Scissors, Lizard & Spock\n",
        "![](https://github.com/carolvieirav/data-prework/blob/master/1.-Python/6.-Rock%E2%80%93Paper%E2%80%93Scissors/images/rpsls.jpg?raw=1)\n",
        "\n",
        "In this challenge, you need to improve the previous game by adding two new options. To know more about the rules of the improved version of rock, paper, scissors, check this [link](http://www.samkass.com/theories/RPSSL.html). \n",
        "\n",
        "In addition, you will also need to improve how the game interacts with the player: the number of rounds to play, which must be an odd number, will be requested to the user until a valid number is entered. Define a new function to make that request.\n",
        "\n",
        "**Hint**: Try to reuse the code that you already coded in the previous challenge. If your code is efficient, this bonus will only consist of simple modifications to the original game."
      ]
    },
    {
      "cell_type": "code",
      "metadata": {
        "id": "DmW6GTgEpK7G",
        "colab_type": "code",
        "colab": {}
      },
      "source": [
        "gestures = [\"rock\", \"paper\",\"scissors\", \"lizard\", \"spock\"]\n",
        "\n",
        "def player_gesture():\n",
        "  player_gesture = \"\"\n",
        "  while player_gesture not in gestures:\n",
        "    player_gesture = input(\"Enter rock, paper, scissors, lizard or spock: \")\n",
        "    return player_gesture\n",
        "\n",
        "outcomes = {\"rock\": {\"rock\":0,\"paper\":2,\"scissors\":1,\"lizard\":1,\"spock\":2},\n",
        "            \"paper\": {\"paper\":0,\"rock\":1,\"scissors\":2,\"lizard\":2,\"spock\":1},\n",
        "            \"scissors\": {\"scissors\":0,\"paper\":1,\"rock\":2,\"lizard\":1,\"spock\":2},\n",
        "            \"lizard\": {\"lizard\":0,\"paper\":1,\"rock\":2,\"scissors\":2,\"spock\":1},\n",
        "            \"spock\": {\"spock\":0,\"paper\":2,\"rock\":1,\"scissors\":1,\"lizard\":2}}\n",
        "\n",
        "print(str(n_rounds) + \" rounds, \" + str(rounds_to_win) + \" rounds to win!\")\n",
        "\n",
        "for i in range (0,n_rounds):\n",
        "  current_round()\n",
        "  if player_score == rounds_to_win or cpu_score == rounds_to_win:\n",
        "    break\n",
        "\n",
        "if player_score > cpu_score:\n",
        "    print(\"Player won the game!\")\n",
        "elif cpu_score > player_score:\n",
        "    print(\"CPU won the game!\")\n",
        "else:\n",
        "    print(\"Tie\")"
      ],
      "execution_count": 0,
      "outputs": []
    }
  ]
}