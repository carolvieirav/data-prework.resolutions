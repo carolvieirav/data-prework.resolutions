{
  "nbformat": 4,
  "nbformat_minor": 0,
  "metadata": {
    "kernelspec": {
      "display_name": "Python 3",
      "language": "python",
      "name": "python3"
    },
    "language_info": {
      "codemirror_mode": {
        "name": "ipython",
        "version": 3
      },
      "file_extension": ".py",
      "mimetype": "text/x-python",
      "name": "python",
      "nbconvert_exporter": "python",
      "pygments_lexer": "ipython3",
      "version": "3.7.2"
    },
    "colab": {
      "name": "duel-of-sorcerers.ipynb",
      "provenance": [],
      "collapsed_sections": [],
      "include_colab_link": true
    }
  },
  "cells": [
    {
      "cell_type": "markdown",
      "metadata": {
        "id": "view-in-github",
        "colab_type": "text"
      },
      "source": [
        "<a href=\"https://colab.research.google.com/github/carolvieirav/data-prework.resolutions/blob/master/duel_of_sorcerers.ipynb\" target=\"_parent\"><img src=\"https://colab.research.google.com/assets/colab-badge.svg\" alt=\"Open In Colab\"/></a>"
      ]
    },
    {
      "cell_type": "markdown",
      "metadata": {
        "id": "E3Na0dlFILnb",
        "colab_type": "text"
      },
      "source": [
        "<img src=\"https://bit.ly/2VnXWr2\" width=\"100\" align=\"left\">"
      ]
    },
    {
      "cell_type": "markdown",
      "metadata": {
        "id": "ognKJdvpILno",
        "colab_type": "text"
      },
      "source": [
        "# Duel of Sorcerers\n",
        "You are witnessing an epic battle between two powerful sorcerers: Gandalf and Saruman. Each sorcerer has 10 spells of variable power in their mind and they are going to throw them one after the other. The winner of the duel will be the one who wins more of those clashes between spells. Spells are represented as a list of 10 integers whose value equals the power of the spell.\n",
        "```\n",
        "gandalf = [10, 11, 13, 30, 22, 11, 10, 33, 22, 22]\n",
        "saruman = [23, 66, 12, 43, 12, 10, 44, 23, 12, 17]\n",
        "```\n",
        "For example:\n",
        "- The first clash is won by Saruman: 10 against 23.\n",
        "- The second clash is won by Saruman: 11 against 66.\n",
        "- ...\n",
        "\n",
        "You will create two variables, one for each sorcerer, where the sum of clashes won will be stored. Depending on which variable is greater at the end of the duel, you will show one of the following three results on the screen:\n",
        "* Gandalf wins\n",
        "* Saruman wins\n",
        "* Tie\n",
        "\n",
        "<img src=\"https://github.com/kelsey-ironhack/data-prework/blob/master/1.-Python/2.-Duel-of-Sorcerers/images/content_lightning_bolt_big.jpg?raw=1\" width=\"400\">"
      ]
    },
    {
      "cell_type": "markdown",
      "metadata": {
        "id": "uDOddH2ZILnx",
        "colab_type": "text"
      },
      "source": [
        "## Tools\n",
        "You don't necessarily need to use all the tools. Maybe you opt to use some of them or completely different ones, they are given to help you shape the exercise. Programming exercises can be solved in many different ways.\n",
        "\n",
        "1. Data structures: **lists, dictionaries**\n",
        "2. Loop: **for loop**\n",
        "3. Conditional statements: **if-elif-else**\n",
        "4. Functions: **range(), len(), print()**\n",
        "\n",
        "## Tasks\n",
        "\n",
        "#### 1. Create two variables called `gandalf` and `saruman` and assign them the spell power lists. Create a variable called `spells` to store the number of spells that the sorcerers cast. "
      ]
    },
    {
      "cell_type": "code",
      "metadata": {
        "id": "D-Z2pfPKILn4",
        "colab_type": "code",
        "colab": {}
      },
      "source": [
        "gandalf = [10, 11, 13, 30, 22, 11, 10, 33, 22, 22]\n",
        "saruman = [23, 66, 12, 43, 12, 10, 44, 23, 12, 17]\n",
        "spells = len(gandalf) + len(saruman)"
      ],
      "execution_count": 0,
      "outputs": []
    },
    {
      "cell_type": "markdown",
      "metadata": {
        "id": "wRyVpyGvILoN",
        "colab_type": "text"
      },
      "source": [
        "#### 2. Create two variables called `gandalf_wins` and `saruman_wins`. Set both of them to 0. \n",
        "You will use these variables to count the number of clashes each sorcerer wins. "
      ]
    },
    {
      "cell_type": "code",
      "metadata": {
        "id": "CuJhXN9tILoU",
        "colab_type": "code",
        "colab": {}
      },
      "source": [
        "gandalf_wins = 0\n",
        "saruman_wins = 0"
      ],
      "execution_count": 0,
      "outputs": []
    },
    {
      "cell_type": "markdown",
      "metadata": {
        "id": "Dw6Bmr2kILoj",
        "colab_type": "text"
      },
      "source": [
        "#### 3. Using the lists of spells of both sorcerers, update variables `gandalf_wins` and `saruman_wins` to count the number of times each sorcerer wins a clash. "
      ]
    },
    {
      "cell_type": "code",
      "metadata": {
        "id": "-uDKHJFmILoo",
        "colab_type": "code",
        "colab": {}
      },
      "source": [
        "for i in range(len(gandalf)):\n",
        "    if gandalf[i] > saruman[i]:\n",
        "        gandalf_wins += 1\n",
        "    elif gandalf[i] < saruman[i]:\n",
        "        saruman_wins += 1"
      ],
      "execution_count": 0,
      "outputs": []
    },
    {
      "cell_type": "markdown",
      "metadata": {
        "id": "kRBvStskILo2",
        "colab_type": "text"
      },
      "source": [
        "#### 4. Who won the battle?\n",
        "Print `Gandalf wins`, `Saruman wins` or `Tie` depending on the result. "
      ]
    },
    {
      "cell_type": "code",
      "metadata": {
        "id": "zsMocKaJILo7",
        "colab_type": "code",
        "colab": {}
      },
      "source": [
        "if gandalf_wins > saruman_wins:\n",
        "  print(\"Gandalf wins\")\n",
        "elif gandalf_wins < saruman_wins:\n",
        "  print(\"Saruman wins\")\n",
        "else:\n",
        "  print(\"Tie\")"
      ],
      "execution_count": 0,
      "outputs": []
    },
    {
      "cell_type": "markdown",
      "metadata": {
        "id": "FiV28-IdILpF",
        "colab_type": "text"
      },
      "source": [
        "## Bonus\n",
        "\n",
        "In this bonus challenge, you'll need to check the winner of the battle but this time, a sorcerer wins if he succeeds in winning 3 spell clashes in a row.\n",
        "\n",
        "Also, the spells now have a name and there is a dictionary that associates that name to a power.\n",
        "\n",
        "```\n",
        "POWER = {\n",
        "    'Fireball': 50, \n",
        "    'Lightning bolt': 40, \n",
        "    'Magic arrow': 10, \n",
        "    'Black Tentacles': 25, \n",
        "    'Contagion': 45\n",
        "}\n",
        "\n",
        "gandalf = ['Fireball', 'Lightning bolt', 'Lightning bolt', 'Magic arrow', 'Fireball', \n",
        "           'Magic arrow', 'Lightning bolt', 'Fireball', 'Fireball', 'Fireball']\n",
        "saruman = ['Contagion', 'Contagion', 'Black Tentacles', 'Fireball', 'Black Tentacles', \n",
        "           'Lightning bolt', 'Magic arrow', 'Contagion', 'Magic arrow', 'Magic arrow']\n",
        "```\n",
        "\n",
        "#### 1. Create variables `POWER`, `gandalf` and `saruman` as seen above. Create a variable called `spells` to store the number of spells that the sorcerers cast. "
      ]
    },
    {
      "cell_type": "code",
      "metadata": {
        "id": "W7NyYZsxILpI",
        "colab_type": "code",
        "colab": {}
      },
      "source": [
        "POWER = {\n",
        "    'Fireball': 50, \n",
        "    'Lightning bolt': 40, \n",
        "    'Magic arrow': 10, \n",
        "    'Black Tentacles': 25, \n",
        "    'Contagion': 45\n",
        "}\n",
        " \n",
        "gandalf = ['Fireball', 'Lightning bolt', 'Lightning bolt', 'Magic arrow', 'Fireball', \n",
        "           'Magic arrow', 'Lightning bolt', 'Fireball', 'Fireball', 'Fireball']\n",
        "saruman = ['Contagion', 'Contagion', 'Black Tentacles', 'Fireball', 'Black Tentacles', \n",
        "           'Lightning bolt', 'Magic arrow', 'Contagion', 'Magic arrow', 'Magic arrow']\n",
        "spells = len(gandalf) + len(saruman)"
      ],
      "execution_count": 0,
      "outputs": []
    },
    {
      "cell_type": "markdown",
      "metadata": {
        "id": "7NxP78qaILpS",
        "colab_type": "text"
      },
      "source": [
        "#### 2. Create two variables called `gandalf_wins` and `saruman_wins`. Set both of them to 0. "
      ]
    },
    {
      "cell_type": "code",
      "metadata": {
        "id": "SmBm6lgUILpV",
        "colab_type": "code",
        "colab": {}
      },
      "source": [
        "gandalf_wins = 0\n",
        "saruman_wins = 0"
      ],
      "execution_count": 0,
      "outputs": []
    },
    {
      "cell_type": "markdown",
      "metadata": {
        "id": "qbO6KqsrILpk",
        "colab_type": "text"
      },
      "source": [
        "#### 3. Create two variables called `gandalf_power` and `saruman_power` to store the list of spell powers of each sorcerer."
      ]
    },
    {
      "cell_type": "code",
      "metadata": {
        "id": "iDKdzTJFILpn",
        "colab_type": "code",
        "colab": {}
      },
      "source": [
        "gandalf_power = [value for (key, value) in POWER.items() if key in gandalf]\n",
        "\n",
        "saruman_power = [value for (key, value) in POWER.items() if key in saruman]"
      ],
      "execution_count": 0,
      "outputs": []
    },
    {
      "cell_type": "markdown",
      "metadata": {
        "id": "6RgcZ2ILILpw",
        "colab_type": "text"
      },
      "source": [
        "#### 4. The battle starts! Using the variables you've created above, code the execution of spell clashes. Remember that a sorcerer wins if he succeeds in winning 3 spell clashes in a row. \n",
        "If a clash ends up in a tie, the counter of wins in a row is not restarted to 0. Remember to print who is the winner of the battle. "
      ]
    },
    {
      "cell_type": "code",
      "metadata": {
        "id": "ughj0ssQILpz",
        "colab_type": "code",
        "colab": {}
      },
      "source": [
        "for i in range(len(gandalf)):\n",
        "    if gandalf[i] < saruman[i]:\n",
        "        saruman_wins += 1\n",
        "        gandalf_wins = 0\n",
        "    elif gandalf[i] > saruman[i]:\n",
        "        gandalf_wins += 1\n",
        "        saruman_wins = 0\n",
        "    else:\n",
        "        gandalf_wins =  0\n",
        "        saruman_wins = 0\n",
        "    if saruman_wins == 3 or gandalf_wins == 3:\n",
        "       break\n",
        "       \n",
        "if saruman_wins == 3:\n",
        "  print(\"Saruman wins\")\n",
        "elif gandalf_wins == 3:\n",
        "  print(\"Gandalf wins\")\n",
        "else:\n",
        "  print(\"ties\")"
      ],
      "execution_count": 0,
      "outputs": []
    },
    {
      "cell_type": "markdown",
      "metadata": {
        "id": "tV50ZWiDILqJ",
        "colab_type": "text"
      },
      "source": [
        "#### 5. Find the average spell power of Gandalf and Saruman. "
      ]
    },
    {
      "cell_type": "code",
      "metadata": {
        "id": "iu-YRpy7ILqN",
        "colab_type": "code",
        "colab": {}
      },
      "source": [
        "avg_gandalf = sum(gandalf_power)/ len(gandalf_power)\n",
        "avg_saruman = sum(saruman_power)/ len(saruman_power)"
      ],
      "execution_count": 0,
      "outputs": []
    },
    {
      "cell_type": "markdown",
      "metadata": {
        "id": "warXATx2ILqW",
        "colab_type": "text"
      },
      "source": [
        "#### 6. Find the standard deviation of the spell power of Gandalf and Saruman. "
      ]
    },
    {
      "cell_type": "code",
      "metadata": {
        "id": "JgI0KELuILqa",
        "colab_type": "code",
        "outputId": "eed9ed3e-deda-4502-ab32-ae975015b2bc",
        "colab": {
          "base_uri": "https://localhost:8080/",
          "height": 52
        }
      },
      "source": [
        "import statistics\n",
        "st_drv_gandalf = statistics.stdev(gandalf_power)\n",
        "print(\"The standard deviation of the spell power of Gandalf is\",st_drv_gandalf)\n",
        "st_drv_saruman = statistics.stdev(saruman_power)\n",
        "print(\"The standard deviation of the spell power of Saruman is\",st_drv_saruman)"
      ],
      "execution_count": 0,
      "outputs": [
        {
          "output_type": "stream",
          "text": [
            "The standard deviation of the spell power of Gandalf is 20.81665999466133\n",
            "The standard deviation of the spell power of Saruman is 16.355427233796124\n"
          ],
          "name": "stdout"
        }
      ]
    }
  ]
}