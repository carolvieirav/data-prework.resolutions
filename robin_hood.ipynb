{
  "nbformat": 4,
  "nbformat_minor": 0,
  "metadata": {
    "kernelspec": {
      "display_name": "Python 3",
      "language": "python",
      "name": "python3"
    },
    "language_info": {
      "codemirror_mode": {
        "name": "ipython",
        "version": 3
      },
      "file_extension": ".py",
      "mimetype": "text/x-python",
      "name": "python",
      "nbconvert_exporter": "python",
      "pygments_lexer": "ipython3",
      "version": "3.7.2"
    },
    "colab": {
      "name": "Copy of robin-hood.ipynb",
      "provenance": [],
      "collapsed_sections": [],
      "include_colab_link": true
    }
  },
  "cells": [
    {
      "cell_type": "markdown",
      "metadata": {
        "id": "view-in-github",
        "colab_type": "text"
      },
      "source": [
        "<a href=\"https://colab.research.google.com/github/carolvieirav/data-prework.resolutions/blob/master/robin_hood.ipynb\" target=\"_parent\"><img src=\"https://colab.research.google.com/assets/colab-badge.svg\" alt=\"Open In Colab\"/></a>"
      ]
    },
    {
      "cell_type": "markdown",
      "metadata": {
        "id": "kADhGdTBRxTS",
        "colab_type": "text"
      },
      "source": [
        "<img src=\"https://bit.ly/2VnXWr2\" width=\"100\" align=\"left\"/>"
      ]
    },
    {
      "cell_type": "markdown",
      "metadata": {
        "id": "7QsSx89oRxTX",
        "colab_type": "text"
      },
      "source": [
        "# Robin Hood\n",
        "Robin Hood has entered a competition to win the archery contest in Sherwood. With his bow and arrows, he needs to shoot on a target and try to hit as close as possible to the center.\n",
        "\n",
        "![](https://github.com/carolvieirav/data-prework/blob/master/1.-Python/4.-Robin-Hood/images/arrows.jpg?raw=1)\n",
        "\n",
        "## Context\n",
        "In this challenge, the landing position of arrows shot by archers in the competition will be represented using 2-dimensional coordinates. \n",
        "\n",
        "In the 2-dimensional space, a point can be defined by a pair of values that correspond to the horizontal coordinate (x) and the vertical coordinate (y). For example, in our case, an arrow that hits the center of the archery target will land in position (0, 0) on the coordinate axes. \n",
        "\n",
        "The space can be divided into 4 zones (quadrants): Q1, Q2, Q3, Q4. If a point is in Q1, both its x coordinate and y coordinate are positive. Any point with a null x or y coordinate is considered to not belong to any quadrant. \n",
        "\n",
        "If you want to know more about the cartesian coordinate system, you can check this [link](https://en.wikipedia.org/wiki/Cartesian_coordinate_system). \n",
        "\n",
        "## Tools\n",
        "You don't necessarily need to use all the tools. Maybe you opt to use some of them or completely different ones, they are given to help you shape the exercise. Programming exercises can be solved in many different ways.\n",
        "* Data structures: **lists, sets, tuples**\n",
        "* Conditional statements: **if-elif-else**\n",
        "* Loop: **while/for**\n",
        "* Minimum (optional sorting)\n",
        "\n",
        "## Tasks\n",
        "Robin Hood has hit the following points:"
      ]
    },
    {
      "cell_type": "code",
      "metadata": {
        "id": "trUC6e1yRxTZ",
        "colab_type": "code",
        "colab": {}
      },
      "source": [
        "points = [(4, 5), (-0, 2), (4, 7), (1, -3), (3, -2), (4, 5), (3, 2), (5, 7), (-5, 7), (2, 2), (-4, 5), (0, -2),\n",
        "          (-4, 7), (-1, 3), (-3, 2), (-4, -5), (-3, 2), (5, 7), (5, 7), (2, 2), (9, 9), (-8, -9)]"
      ],
      "execution_count": 0,
      "outputs": []
    },
    {
      "cell_type": "markdown",
      "metadata": {
        "id": "XPF8bVO3RxTj",
        "colab_type": "text"
      },
      "source": [
        "#### 1. Robin Hood is famous for hitting an arrow with another arrow. Find the coordinates of the points where an arrow hits another arrow."
      ]
    },
    {
      "cell_type": "code",
      "metadata": {
        "id": "3CEezYhtRxTl",
        "colab_type": "code",
        "outputId": "df8278b5-fa1f-4b37-ff44-c0511756b54b",
        "colab": {
          "base_uri": "https://localhost:8080/",
          "height": 34
        }
      },
      "source": [
        "points = [(4, 5), (-0, 2), (4, 7), (1, -3), (3, -2), (4, 5), (3, 2), (5, 7), (-5, 7), (2, 2), (-4, 5), (0, -2),\n",
        "          (-4, 7), (-1, 3), (-3, 2), (-4, -5), (-3, 2), (5, 7), (5, 7), (2, 2), (9, 9), (-8, -9)]\n",
        "          \n",
        "for i in set(points):\n",
        "    points.remove(i)\n",
        "points = list(set(points))\n",
        "print(\"The coordinates of the points where an arrow hits another arrow are:\", points)\n"
      ],
      "execution_count": 0,
      "outputs": [
        {
          "output_type": "stream",
          "text": [
            "The coordinates of the points where an arrow hits another arrow are: [(4, 5), (5, 7), (-3, 2), (2, 2)]\n"
          ],
          "name": "stdout"
        }
      ]
    },
    {
      "cell_type": "markdown",
      "metadata": {
        "id": "-MmCtc13RxTq",
        "colab_type": "text"
      },
      "source": [
        "#### 2. Calculate how many arrows have fallen in each quadrant. \n",
        "**Note**: the arrows that fall in the axis (x=0 or y=0) don't belong to any quadrant."
      ]
    },
    {
      "cell_type": "code",
      "metadata": {
        "id": "iueHQO9GRxTs",
        "colab_type": "code",
        "outputId": "cd9ee971-8486-4313-a5fc-87e6d9ea23cf",
        "colab": {
          "base_uri": "https://localhost:8080/",
          "height": 86
        }
      },
      "source": [
        "Q1 = 0\n",
        "Q2 = 0\n",
        "Q3 = 0\n",
        "Q4 = 0\n",
        "\n",
        "for i in points:\n",
        "  if i[0] > 0 and i[1] > 0:\n",
        "    Q1 += 1 \n",
        "  elif i[0] < 0 and i[1] > 0:\n",
        "    Q2 += 1\n",
        "  elif i[0] < 0 and i[1] < 0:\n",
        "    Q3  += 1\n",
        "  elif i[0] > 0 and i[1] < 0:\n",
        "    Q4 += 1\n",
        " \n",
        "print(\"Q1:\",Q1)\n",
        "print(\"Q2:\",Q2)\n",
        "print(\"Q3:\",Q3)\n",
        "print(\"Q4:\",Q4)"
      ],
      "execution_count": 0,
      "outputs": [
        {
          "output_type": "stream",
          "text": [
            "Q1: 3\n",
            "Q2: 1\n",
            "Q3: 0\n",
            "Q4: 0\n"
          ],
          "name": "stdout"
        }
      ]
    },
    {
      "cell_type": "markdown",
      "metadata": {
        "id": "eceaRgydRxT1",
        "colab_type": "text"
      },
      "source": [
        "#### 3. Find the point closest to the center. Calculate its distance to the center. \n",
        "Take into account that there might be more than one point at the minimum distance to the center.\n",
        "\n",
        "**Hint**: Use the Euclidean distance. You can find more information about it [here](https://en.wikipedia.org/wiki/Euclidean_distance).  \n",
        "**Hint**: Defining a function that calculates the distance to the center can help."
      ]
    },
    {
      "cell_type": "code",
      "metadata": {
        "id": "SLjM3jtLRxT3",
        "colab_type": "code",
        "outputId": "234af8b5-2901-43bb-ee59-96402975742d",
        "colab": {
          "base_uri": "https://localhost:8080/",
          "height": 34
        }
      },
      "source": [
        "points = [(4, 5), (-0, 2), (4, 7), (1, -3), (3, -2), (4, 5), (3, 2), (5, 7), (-5, 7), (2, 2), (-4, 5), (0, -2),\n",
        "          (-4, 7), (-1, 3), (-3, 2), (-4, -5), (-3, 2), (5, 7), (5, 7), (2, 2), (9, 9), (-8, -9)]\n",
        "          \n",
        "import math\n",
        "\n",
        "distance_center = {}\n",
        "\n",
        "for point in points:\n",
        "  distance = math.sqrt(point[0] ** 2 + point[1] ** 2)\n",
        "  distance_center.update({distance: point})\n",
        "print (distance_center[min(distance_center)])"
      ],
      "execution_count": 0,
      "outputs": [
        {
          "output_type": "stream",
          "text": [
            "(0, -2)\n"
          ],
          "name": "stdout"
        }
      ]
    },
    {
      "cell_type": "markdown",
      "metadata": {
        "id": "ektLwFqfRxT8",
        "colab_type": "text"
      },
      "source": [
        "#### 4. If the archery target has a radius of 9, calculate the number of arrows that won't hit the target. \n",
        "**Hint**: Use the function created in step 3. "
      ]
    },
    {
      "cell_type": "code",
      "metadata": {
        "id": "fRK9qjBFRxT_",
        "colab_type": "code",
        "outputId": "74f09858-9ec0-4dbc-f0aa-5bc32b71955c",
        "colab": {
          "base_uri": "https://localhost:8080/",
          "height": 34
        }
      },
      "source": [
        "print([value for (key, value) in distance_center.items() if key > 0])"
      ],
      "execution_count": 0,
      "outputs": [
        {
          "output_type": "stream",
          "text": [
            "[(-4, -5), (0, -2), (-4, 7), (-1, 3), (-3, 2), (5, 7), (2, 2), (9, 9), (-8, -9)]\n"
          ],
          "name": "stdout"
        }
      ]
    }
  ]
}