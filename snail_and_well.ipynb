{
  "nbformat": 4,
  "nbformat_minor": 0,
  "metadata": {
    "kernelspec": {
      "display_name": "Python 3",
      "language": "python",
      "name": "python3"
    },
    "language_info": {
      "codemirror_mode": {
        "name": "ipython",
        "version": 3
      },
      "file_extension": ".py",
      "mimetype": "text/x-python",
      "name": "python",
      "nbconvert_exporter": "python",
      "pygments_lexer": "ipython3",
      "version": "3.7.2"
    },
    "colab": {
      "name": "snail-and-well.ipynb",
      "provenance": [],
      "collapsed_sections": [],
      "include_colab_link": true
    }
  },
  "cells": [
    {
      "cell_type": "markdown",
      "metadata": {
        "id": "view-in-github",
        "colab_type": "text"
      },
      "source": [
        "<a href=\"https://colab.research.google.com/github/carolvieirav/data-prework.resolutions/blob/master/snail_and_well.ipynb\" target=\"_parent\"><img src=\"https://colab.research.google.com/assets/colab-badge.svg\" alt=\"Open In Colab\"/></a>"
      ]
    },
    {
      "cell_type": "markdown",
      "metadata": {
        "id": "yL0IC8y5z-J6",
        "colab_type": "text"
      },
      "source": [
        "<img src=\"https://bit.ly/2VnXWr2\" width=\"100\" align=\"left\">"
      ]
    },
    {
      "cell_type": "markdown",
      "metadata": {
        "id": "Y7Ra0r8oz-Kl",
        "colab_type": "text"
      },
      "source": [
        "# The Snail and the Well\n",
        "\n",
        "A snail falls at the bottom of a 125 cm well. Each day the snail rises 30 cm. But at night, while sleeping, slides 20 cm because the walls are wet. How many days does it take for the snail to escape the well?\n",
        "\n",
        "**Hint**: The snail gets out of the well when it surpasses the 125cm of height.\n",
        "\n",
        "## Tools\n",
        "\n",
        "1. Loop: **while**\n",
        "2. Conditional statements: **if-else**\n",
        "3. Function: **print()**\n",
        "\n",
        "## Tasks\n",
        "\n",
        "#### 1. Assign the challenge data to variables with representative names: `well_height`, `daily_distance`, `nightly_distance` and `snail_position`."
      ]
    },
    {
      "cell_type": "code",
      "metadata": {
        "id": "-v7KiHRiz-Ks",
        "colab_type": "code",
        "colab": {}
      },
      "source": [
        "well_height = 125\n",
        "daily_distance = 30\n",
        "nightly_distance = daily_distance - 20\n",
        "snail_position = 0"
      ],
      "execution_count": 0,
      "outputs": []
    },
    {
      "cell_type": "markdown",
      "metadata": {
        "id": "_3J-z0xbz-LG",
        "colab_type": "text"
      },
      "source": [
        "#### 2. Create a variable `days` to keep count of the days that pass until the snail escapes the well. "
      ]
    },
    {
      "cell_type": "code",
      "metadata": {
        "id": "rDzXcAXEz-LK",
        "colab_type": "code",
        "colab": {}
      },
      "source": [
        "days = snail_position / nightly_distance"
      ],
      "execution_count": 0,
      "outputs": []
    },
    {
      "cell_type": "markdown",
      "metadata": {
        "id": "5OEVx2bJz-Lc",
        "colab_type": "text"
      },
      "source": [
        "#### 3. Find the solution to the challenge using the variables defined above. "
      ]
    },
    {
      "cell_type": "code",
      "metadata": {
        "id": "VLbD_dABz-Lg",
        "colab_type": "code",
        "colab": {}
      },
      "source": [
        "while snail_position < well_height:\n",
        "   snail_position += nightly_distance\n",
        "   days += 1"
      ],
      "execution_count": 0,
      "outputs": []
    },
    {
      "cell_type": "code",
      "metadata": {
        "id": "h-6ZFhwhz-Ls",
        "colab_type": "code",
        "outputId": "30f5b54a-bfb1-49d6-90b8-47d0ee3d0fd4",
        "colab": {
          "base_uri": "https://localhost:8080/",
          "height": 35
        }
      },
      "source": [
        "print (\"The snail scapes in\", days, \"days\")"
      ],
      "execution_count": 0,
      "outputs": [
        {
          "output_type": "stream",
          "text": [
            "The snail scapes in 13.0 days\n"
          ],
          "name": "stdout"
        }
      ]
    },
    {
      "cell_type": "markdown",
      "metadata": {
        "id": "tIo9Hx-rz-L1",
        "colab_type": "text"
      },
      "source": [
        "## Bonus\n",
        "The distance traveled by the snail each day is now defined by a list.\n",
        "```\n",
        "advance_cm = [30, 21, 33, 77, 44, 45, 23, 45, 12, 34, 55]\n",
        "```\n",
        "On the first day, the snail rises 30cm but during the night it slides 20cm. On the second day, the snail rises 21cm but during the night it slides 20cm, and so on. \n",
        "\n",
        "#### 1. How many days does it take for the snail to escape the well?\n",
        "Follow the same guidelines as in the previous challenge.\n",
        "\n",
        "**Hint**: Remember that the snail gets out of the well when it surpasses the 125cm of height."
      ]
    },
    {
      "cell_type": "markdown",
      "metadata": {
        "id": "gd0oux1yz-Lp",
        "colab_type": "text"
      },
      "source": [
        "#### 4. Print the solution."
      ]
    },
    {
      "cell_type": "code",
      "metadata": {
        "id": "gwBqdJFzz-L4",
        "colab_type": "code",
        "outputId": "6c034258-c48c-49da-ccb9-c86ad5168d9e",
        "colab": {
          "base_uri": "https://localhost:8080/",
          "height": 35
        }
      },
      "source": [
        "print (\"The snail takes\", len(advance_cm), \"days to scape the well\")"
      ],
      "execution_count": 0,
      "outputs": [
        {
          "output_type": "stream",
          "text": [
            "The snail takes 11 days to scape the well\n"
          ],
          "name": "stdout"
        }
      ]
    },
    {
      "cell_type": "markdown",
      "metadata": {
        "id": "Vkml2H8sz-MB",
        "colab_type": "text"
      },
      "source": [
        "#### 2. What is its maximum displacement in one day? And its minimum? Calculate the displacement using only the travel distance of the days used to get out of the well. \n",
        "**Hint**: Remember that displacement means the total distance risen taking into account that the snail slides at night.  "
      ]
    },
    {
      "cell_type": "code",
      "metadata": {
        "id": "82KhCaVIz-MD",
        "colab_type": "code",
        "outputId": "be21425c-e7a1-4857-8101-e38cac06e33c",
        "colab": {
          "base_uri": "https://localhost:8080/",
          "height": 35
        }
      },
      "source": [
        "print(\"The maximum displacement in one day is\", max(advance_cm)-20, \"and\",\"The minimum is\", min(advance_cm)-20)\n"
      ],
      "execution_count": 0,
      "outputs": [
        {
          "output_type": "stream",
          "text": [
            "The maximum displacement in one day is 57 and The minimum is -8\n"
          ],
          "name": "stdout"
        }
      ]
    },
    {
      "cell_type": "markdown",
      "metadata": {
        "id": "WG5EVt9Xz-NK",
        "colab_type": "text"
      },
      "source": [
        "#### 3. What is its average progress? Take into account the snail slides at night."
      ]
    },
    {
      "cell_type": "code",
      "metadata": {
        "id": "sKbBVvCMz-NO",
        "colab_type": "code",
        "outputId": "8c052d5a-e55f-4682-89db-e76acdc762be",
        "colab": {
          "base_uri": "https://localhost:8080/",
          "height": 35
        }
      },
      "source": [
        "((sum(advance_cm) - (len(advance_cm)*20)) / len(advance_cm))"
      ],
      "execution_count": 0,
      "outputs": [
        {
          "output_type": "execute_result",
          "data": {
            "text/plain": [
              "18.09090909090909"
            ]
          },
          "metadata": {
            "tags": []
          },
          "execution_count": 74
        }
      ]
    },
    {
      "cell_type": "markdown",
      "metadata": {
        "id": "8xpJv6Raz-NY",
        "colab_type": "text"
      },
      "source": [
        "#### 4. What is the standard deviation of its displacement? Take into account the snail slides at night."
      ]
    },
    {
      "cell_type": "code",
      "metadata": {
        "id": "yzDmYdxUz-Nd",
        "colab_type": "code",
        "outputId": "3d464912-0cc3-4588-9583-0b33edc85e2b",
        "colab": {
          "base_uri": "https://localhost:8080/",
          "height": 35
        }
      },
      "source": [
        "import statistics\n",
        "from statistics import stdev\n",
        "displacement = [advance_cm [0]-20,advance_cm [1]-20,advance_cm [2]-20,advance_cm [3]-20,advance_cm [4]-20,advance_cm [5]-20,advance_cm [6]-20,advance_cm [7]-20,advance_cm [8]-20,advance_cm [9]-20,advance_cm [10]-20]\n",
        "mean = sum(displacement)/len(displacement)\n",
        "print(\"The standard deviation of the displacement is % s \" \n",
        "                % (statistics.stdev(displacement))) "
      ],
      "execution_count": 0,
      "outputs": [
        {
          "output_type": "stream",
          "text": [
            "The standard deviation of the displacement is 17.996969441850734 \n"
          ],
          "name": "stdout"
        }
      ]
    }
  ]
}