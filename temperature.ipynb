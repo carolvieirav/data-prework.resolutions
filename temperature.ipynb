{
  "nbformat": 4,
  "nbformat_minor": 0,
  "metadata": {
    "kernelspec": {
      "display_name": "Python 3",
      "language": "python",
      "name": "python3"
    },
    "language_info": {
      "codemirror_mode": {
        "name": "ipython",
        "version": 3
      },
      "file_extension": ".py",
      "mimetype": "text/x-python",
      "name": "python",
      "nbconvert_exporter": "python",
      "pygments_lexer": "ipython3",
      "version": "3.7.2"
    },
    "colab": {
      "name": "temperature.ipynb",
      "provenance": [],
      "collapsed_sections": [],
      "include_colab_link": true
    }
  },
  "cells": [
    {
      "cell_type": "markdown",
      "metadata": {
        "id": "view-in-github",
        "colab_type": "text"
      },
      "source": [
        "<a href=\"https://colab.research.google.com/github/carolvieirav/data-prework.resolutions/blob/master/temperature.ipynb\" target=\"_parent\"><img src=\"https://colab.research.google.com/assets/colab-badge.svg\" alt=\"Open In Colab\"/></a>"
      ]
    },
    {
      "cell_type": "markdown",
      "metadata": {
        "id": "iziM0It1y0AC",
        "colab_type": "text"
      },
      "source": [
        "<img src=\"https://bit.ly/2VnXWr2\" width=\"100\" align=\"left\">"
      ]
    },
    {
      "cell_type": "markdown",
      "metadata": {
        "id": "O7WAolaUy0AR",
        "colab_type": "text"
      },
      "source": [
        "# Temperature Sensor\n",
        "\n",
        "There is a temperature sensor in the processor of your company's server. The company wants to analyze the data provided by the sensor to decide if they should change the cooling system for a better one. As changing the cooling system is expensive and you are an excellent data analyst, you can't make a decision without basis.\n",
        "\n",
        "## Tools\n",
        "You don't necessarily need to use all the tools. Maybe you opt to use some of them or completely different ones, they are given to help you shape the exercise. Programming exercises can be solved in many different ways.\n",
        "1. Data structures: **lists**\n",
        "2. Loops: **list comprehension**\n",
        "3. Functions: **min, max, print, len**\n",
        "4. Conditional statements: **if-elif-else**\n",
        "\n",
        "## Tasks\n",
        "The temperatures measured throughout the 24 hours of a day are:"
      ]
    },
    {
      "cell_type": "code",
      "metadata": {
        "id": "R58DfE_my0Ab",
        "colab_type": "code",
        "colab": {}
      },
      "source": [
        "temperatures_C = [33, 66, 65, 0, 59, 60, 62, 64, 70, 76, 80, 81, 80, 83, 90, 79, 61, 53, 50, 49, 53, 48, 45, 39]"
      ],
      "execution_count": 0,
      "outputs": []
    },
    {
      "cell_type": "markdown",
      "metadata": {
        "id": "r9cA6eCTy0A4",
        "colab_type": "text"
      },
      "source": [
        "The first element of the list is the temperature at 12am, the second element is the temperature at 1am, and so on. \n",
        "\n",
        "The company has decided that if one of the following events occurs, then the cooling system needs to be replaced for a new one to avoid damaging the processor.\n",
        "* More than 4 temperatures are greater than or equal to 70ºC.\n",
        "* Any temperature is above 80ºC.\n",
        "* The average temperature exceeds 65ºC.\n",
        "\n",
        "Follow the steps so that you can make the decision.\n",
        "\n",
        "#### 1. Find the minimum temperature of the day and store it in a variable."
      ]
    },
    {
      "cell_type": "code",
      "metadata": {
        "id": "xpyqeJRoy0BB",
        "colab_type": "code",
        "colab": {}
      },
      "source": [
        "min_temperature = min(temperatures_C)"
      ],
      "execution_count": 0,
      "outputs": []
    },
    {
      "cell_type": "markdown",
      "metadata": {
        "id": "oAj-7deQy0BW",
        "colab_type": "text"
      },
      "source": [
        "#### 2. Find the maximum temperature of the day and store it in a variable."
      ]
    },
    {
      "cell_type": "code",
      "metadata": {
        "id": "jmGfkw5dy0Bf",
        "colab_type": "code",
        "colab": {}
      },
      "source": [
        "max_temperature = max(temperatures_C)"
      ],
      "execution_count": 0,
      "outputs": []
    },
    {
      "cell_type": "markdown",
      "metadata": {
        "id": "AfmFcOcey0Bx",
        "colab_type": "text"
      },
      "source": [
        "#### 3. Create a list with the temperatures that are greater than or equal to 70ºC. Store it in a variable."
      ]
    },
    {
      "cell_type": "code",
      "metadata": {
        "id": "ewlxeYhcy0B1",
        "colab_type": "code",
        "colab": {}
      },
      "source": [
        "temperatures_70 = [temperature for temperature in temperatures_C if temperature >= 70]"
      ],
      "execution_count": 0,
      "outputs": []
    },
    {
      "cell_type": "markdown",
      "metadata": {
        "id": "468Fbkwky0CG",
        "colab_type": "text"
      },
      "source": [
        "#### 4. Find the average temperature of the day and store it in a variable."
      ]
    },
    {
      "cell_type": "code",
      "metadata": {
        "id": "HTcirjovy0CJ",
        "colab_type": "code",
        "colab": {}
      },
      "source": [
        "avg_temperature_C = sum(temperatures_C) / len(temperatures_C)"
      ],
      "execution_count": 0,
      "outputs": []
    },
    {
      "cell_type": "markdown",
      "metadata": {
        "id": "TyjDvyGiy0CW",
        "colab_type": "text"
      },
      "source": [
        "#### 5. Imagine that there was a sensor failure at 3am and the data for that specific hour was not recorded. How would you estimate the missing value? Replace the current value of the list at 3am for an estimation. "
      ]
    },
    {
      "cell_type": "code",
      "metadata": {
        "id": "gZKyLNt2y0Cb",
        "colab_type": "code",
        "colab": {}
      },
      "source": [
        "temperatures_C[3] = avg_temperature_C\n",
        "\n",
        "print(temperatures_C[3])"
      ],
      "execution_count": 0,
      "outputs": []
    },
    {
      "cell_type": "markdown",
      "metadata": {
        "id": "YFasdlp0y0Cq",
        "colab_type": "text"
      },
      "source": [
        "#### 6. Bonus: the maintenance staff is from the United States and does not understand the international metric system. Help them by converting the temperatures from Celsius to Fahrenheit.\n",
        "To know more about temperature conversion check this [link](https://en.wikipedia.org/wiki/Conversion_of_units_of_temperature).\n",
        "\n",
        "**Formula**: \n",
        "\n",
        "$F = 1.8 * C + 32$"
      ]
    },
    {
      "cell_type": "code",
      "metadata": {
        "id": "MHtKlRzpy0Cu",
        "colab_type": "code",
        "colab": {}
      },
      "source": [
        "def F(c): \n",
        "  return(1.8 * c + 32)\n",
        "\n",
        "temperatures_F = []\n",
        "for temperature in temperatures_C:\n",
        "  temperatures_F.append(F(temperature))\n",
        "  print(temperatures_F)"
      ],
      "execution_count": 0,
      "outputs": []
    },
    {
      "cell_type": "markdown",
      "metadata": {
        "id": "9qO1OdySy0C5",
        "colab_type": "text"
      },
      "source": [
        "#### 7. Make a decision!\n",
        "Now it's time to make a decision taking into account what you have seen until now. \n",
        "\n",
        "Remember that if one of the following events occurs, then the cooling system needs to be replaced for a new one to avoid damaging the processor.\n",
        "* More than 4 temperatures are greater than or equal to 70ºC.\n",
        "* Any temperature is above 80ºC.\n",
        "* The average temperature exceeds 65ºC.\n",
        "\n",
        "#### To make your decision, check if any of the three conditions above is met. You might need to use some of the variables you created in steps 1 to 6. Print a message to show if the cooling system needs to be changed or not."
      ]
    },
    {
      "cell_type": "code",
      "metadata": {
        "id": "Gq6CGJqTy0C_",
        "colab_type": "code",
        "outputId": "43b8e12a-fcef-4ba5-d1b3-783b55b896ad",
        "colab": {
          "base_uri": "https://localhost:8080/",
          "height": 34
        }
      },
      "source": [
        "temperatures_70 = [temperature for temperature in temperatures_C if temperature >= 70]\n",
        "temperatures_80 = [ i for i in temperatures_C if i > 80]\n",
        "\n",
        "if (len(temperatures_70) > 4) or (temperatures_80!= []) or (avg_temperature > 65) == True:\n",
        "  print(\"The cooling system needs to be replaced\")\n",
        "else:\n",
        "  print(\"The cooling system does not need to be replaced\")\n"
      ],
      "execution_count": 0,
      "outputs": [
        {
          "output_type": "stream",
          "text": [
            "The cooling system needs to be replaced\n"
          ],
          "name": "stdout"
        }
      ]
    },
    {
      "cell_type": "markdown",
      "metadata": {
        "id": "jFbW2tCmy0DQ",
        "colab_type": "text"
      },
      "source": [
        "## Bonus\n",
        "\n",
        "The company has decided that the decision you made is not valid. They want you to analyze the data again but this time, the conditions that need to be met in order to change the cooling system are different.\n",
        "\n",
        "This time, if one of the following events occurs, then the cooling system needs to be replaced:\n",
        "* The temperature is greater than 70ºC during more than 4 consecutive hours.\n",
        "* Any temperature is above 80ºC.\n",
        "* The average temperature exceeds 65ºC.\n",
        "\n",
        "Follow the steps so that you can make the decision.\n",
        "\n",
        "#### 1. Create a list with the hours where the temperature is greater than 70ºC. Store it in a variable."
      ]
    },
    {
      "cell_type": "code",
      "metadata": {
        "id": "1E34pJiCy0DZ",
        "colab_type": "code",
        "colab": {}
      },
      "source": [
        "greater_70 = list([temperature for temperature in temperatures_C if temperature > 70])"
      ],
      "execution_count": 0,
      "outputs": []
    },
    {
      "cell_type": "markdown",
      "metadata": {
        "id": "LTKvfXMvy0Do",
        "colab_type": "text"
      },
      "source": [
        "#### 2. Check if the list you created in step 1 has more than 4 consecutive hours. "
      ]
    },
    {
      "cell_type": "code",
      "metadata": {
        "id": "A26iYawBy0Du",
        "colab_type": "code",
        "colab": {}
      },
      "source": [
        "temperatures_70 = 0\n",
        "for temperature in temperatures_C:\n",
        "  if temperature >= 70:\n",
        "    temperatures_70 += 1\n",
        "  if temperature >= 4:\n",
        "    print(\"The cooling system needs to be replaced\")\n",
        "  else:\n",
        "    print(\"The cooling system does not need to be replaced\")"
      ],
      "execution_count": 0,
      "outputs": []
    },
    {
      "cell_type": "markdown",
      "metadata": {
        "id": "q92qUG4Wy0D-",
        "colab_type": "text"
      },
      "source": [
        "#### 3. Make the decision!\n",
        "To make your decision, check if any of the three conditions is met. Print a message to show if the cooling system needs to be changed or not."
      ]
    },
    {
      "cell_type": "code",
      "metadata": {
        "id": "LPKNp1uWy0ED",
        "colab_type": "code",
        "colab": {}
      },
      "source": [
        "temperatures_80 = [ i for i in temperatures_C if i > 80]\n",
        "\n",
        "temperatures_70 = 0\n",
        "for temperature in temperatures_C:\n",
        "    if temperature >= 70:\n",
        "        temperatures_70 += 1\n",
        "if temperature >= 4 or (temperatures_80!= []) or (avg_temperature > 65) == True:\n",
        "  print(\"The cooling system needs to be replaced\")\n",
        "else:\n",
        "  print(\"The cooling system does not need to be replaced\")"
      ],
      "execution_count": 0,
      "outputs": []
    },
    {
      "cell_type": "markdown",
      "metadata": {
        "id": "UKGDt096y0EW",
        "colab_type": "text"
      },
      "source": [
        "#### 4. Find the average value of the temperature lists (ºC and ºF). What is the relation between both average values?"
      ]
    },
    {
      "cell_type": "code",
      "metadata": {
        "id": "NYhlFshxy0Ea",
        "colab_type": "code",
        "colab": {}
      },
      "source": [
        "avg_temperature_F = sum(temperatures_F) / len(temperatures_F)\n",
        "avg_temperature_C = sum(temperatures_C) / len(temperatures_C)\n"
      ],
      "execution_count": 0,
      "outputs": []
    },
    {
      "cell_type": "code",
      "metadata": {
        "id": "fytuhOsz1L4N",
        "colab_type": "code",
        "outputId": "978ba79f-97fe-4a93-d28e-7596d94f2c59",
        "colab": {
          "base_uri": "https://localhost:8080/",
          "height": 34
        }
      },
      "source": [
        "if F(avg_temperature_C) == avg_temperature_F:\n",
        "  print(\"The Relation between both avarage values is the function F\")"
      ],
      "execution_count": 0,
      "outputs": [
        {
          "output_type": "stream",
          "text": [
            "The Relation between both avarage values is the function F\n"
          ],
          "name": "stdout"
        }
      ]
    },
    {
      "cell_type": "markdown",
      "metadata": {
        "id": "xe4Z2SnKy0E0",
        "colab_type": "text"
      },
      "source": [
        "#### 5. Find the standard deviation of the temperature lists (ºC and ºF). What is the relation between both standard deviations?"
      ]
    },
    {
      "cell_type": "code",
      "metadata": {
        "id": "NSgduC6Ny0E6",
        "colab_type": "code",
        "outputId": "64e64817-1497-4791-ad83-34dcd095799c",
        "colab": {
          "base_uri": "https://localhost:8080/",
          "height": 52
        }
      },
      "source": [
        "import statistics\n",
        "from statistics import stdev\n",
        "print(\"The standard deviation of Temperatures_C is % s \" \n",
        "                % (statistics.stdev(temperatures_C)))\n",
        "print(\"The standard deviation of Temperatures_F is % s \" \n",
        "                % (statistics.stdev(temperatures_C)))"
      ],
      "execution_count": 0,
      "outputs": [
        {
          "output_type": "stream",
          "text": [
            "The standard deviation of Temperatures_C is 14.956727286515202 \n",
            "The standard deviation of Temperatures_F is 14.956727286515202 \n"
          ],
          "name": "stdout"
        }
      ]
    },
    {
      "cell_type": "code",
      "metadata": {
        "id": "WPvhT9WD3T3d",
        "colab_type": "code",
        "colab": {}
      },
      "source": [
        "stdev(temperatures_C) == stdev(temperatures_F)"
      ],
      "execution_count": 0,
      "outputs": []
    }
  ]
}