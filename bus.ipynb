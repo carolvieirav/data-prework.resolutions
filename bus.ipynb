{
  "nbformat": 4,
  "nbformat_minor": 0,
  "metadata": {
    "kernelspec": {
      "display_name": "Python 3",
      "language": "python",
      "name": "python3"
    },
    "language_info": {
      "codemirror_mode": {
        "name": "ipython",
        "version": 3
      },
      "file_extension": ".py",
      "mimetype": "text/x-python",
      "name": "python",
      "nbconvert_exporter": "python",
      "pygments_lexer": "ipython3",
      "version": "3.7.2"
    },
    "colab": {
      "name": "Copy of bus.ipynb",
      "provenance": [],
      "collapsed_sections": [],
      "include_colab_link": true
    }
  },
  "cells": [
    {
      "cell_type": "markdown",
      "metadata": {
        "id": "view-in-github",
        "colab_type": "text"
      },
      "source": [
        "<a href=\"https://colab.research.google.com/github/carolvieirav/data-prework.resolutions/blob/master/bus.ipynb\" target=\"_parent\"><img src=\"https://colab.research.google.com/assets/colab-badge.svg\" alt=\"Open In Colab\"/></a>"
      ]
    },
    {
      "cell_type": "markdown",
      "metadata": {
        "id": "OniXmvbwPp5L",
        "colab_type": "text"
      },
      "source": [
        "<img src=\"https://bit.ly/2VnXWr2\" width=\"100\" align=\"left\">"
      ]
    },
    {
      "cell_type": "markdown",
      "metadata": {
        "id": "dRUEf5aRPp5P",
        "colab_type": "text"
      },
      "source": [
        "# Bus\n",
        "\n",
        "This bus has a passenger entry and exit control system to monitor the number of occupants it carries and thus detect when there are too many.\n",
        "\n",
        "At each stop, the entry and exit of passengers is represented by a tuple consisting of two integer numbers.\n",
        "```\n",
        "bus_stop = (in, out)\n",
        "```\n",
        "The succession of stops is represented by a list of these tuples.\n",
        "```\n",
        "stops = [(in1, out1), (in2, out2), (in3, out3), (in4, out4)]\n",
        "```\n",
        "\n",
        "## Tools\n",
        "You don't necessarily need to use all the tools. Maybe you opt to use some of them or completely different ones, they are given to help you shape the exercise. Programming exercises can be solved in many different ways.\n",
        "* Data structures: **lists, tuples**\n",
        "* Loop: **while/for loops**\n",
        "* Functions: **min, max, len**\n",
        "\n",
        "## Tasks"
      ]
    },
    {
      "cell_type": "code",
      "metadata": {
        "id": "sWfsUne-Pp5R",
        "colab_type": "code",
        "colab": {}
      },
      "source": [
        "# Variables\n",
        "stops = [(10, 0), (4, 1), (3, 5), (3, 4), (5, 1), (1, 5), (5, 8), (4, 6), (2, 3)]"
      ],
      "execution_count": 0,
      "outputs": []
    },
    {
      "cell_type": "markdown",
      "metadata": {
        "id": "-_N24rRKPp5X",
        "colab_type": "text"
      },
      "source": [
        "#### 1. Calculate the number of stops."
      ]
    },
    {
      "cell_type": "code",
      "metadata": {
        "id": "k9nn4L-JPp5Z",
        "colab_type": "code",
        "outputId": "d0d34887-b2f8-45f1-923a-54c0a44a0bc6",
        "colab": {
          "base_uri": "https://localhost:8080/",
          "height": 34
        }
      },
      "source": [
        "print(\"The number of stops is\",len(stops))"
      ],
      "execution_count": 0,
      "outputs": [
        {
          "output_type": "stream",
          "text": [
            "The number of stops is 9\n"
          ],
          "name": "stdout"
        }
      ]
    },
    {
      "cell_type": "markdown",
      "metadata": {
        "id": "eFimXE51Pp5e",
        "colab_type": "text"
      },
      "source": [
        "#### 2. Assign to a variable a list whose elements are the number of passengers at each stop (in-out).\n",
        "Each item depends on the previous item in the list + in - out."
      ]
    },
    {
      "cell_type": "code",
      "metadata": {
        "id": "0LKUcWQsPp5g",
        "colab_type": "code",
        "outputId": "7a17be8d-8104-4d1e-cee5-54fe01a1b1e7",
        "colab": {
          "base_uri": "https://localhost:8080/",
          "height": 34
        }
      },
      "source": [
        "in_list = [10, 4, 3 , 3, 5, 1, 5, 4, 2]\n",
        "out_list = [0, 1, 5, 4, 1, 5, 8, 6, 3]\n",
        "\n",
        "passengers_stops = []\n",
        "for i in range(len(in_list)):\n",
        "  if i == 0:\n",
        "      passengers = in_list[i] - out_list[i]\n",
        "  if i != 0:\n",
        "      passengers = passengers + in_list[i] - out_list[i]\n",
        "  passengers_stops.append(passengers)\n",
        "\n",
        "print(passengers_stops)\n"
      ],
      "execution_count": 0,
      "outputs": [
        {
          "output_type": "stream",
          "text": [
            "[10, 13, 11, 10, 14, 10, 7, 5, 4]\n"
          ],
          "name": "stdout"
        }
      ]
    },
    {
      "cell_type": "markdown",
      "metadata": {
        "id": "IRn89Vu8Pp5k",
        "colab_type": "text"
      },
      "source": [
        "#### 3. Find the maximum occupation of the bus."
      ]
    },
    {
      "cell_type": "code",
      "metadata": {
        "id": "nb_PteLGPp5m",
        "colab_type": "code",
        "outputId": "2631b978-c9a6-4b0f-f34b-586b09d662cf",
        "colab": {
          "base_uri": "https://localhost:8080/",
          "height": 34
        }
      },
      "source": [
        "print(\"The maximum occupation of the bus is\", max(passengers_stops))"
      ],
      "execution_count": 0,
      "outputs": [
        {
          "output_type": "stream",
          "text": [
            "The maximum occupation of the bus is 14\n"
          ],
          "name": "stdout"
        }
      ]
    },
    {
      "cell_type": "markdown",
      "metadata": {
        "id": "JdgCgbvePp5s",
        "colab_type": "text"
      },
      "source": [
        "#### 4. Calculate the average occupation. And the standard deviation."
      ]
    },
    {
      "cell_type": "code",
      "metadata": {
        "id": "DAn31fm0Pp5u",
        "colab_type": "code",
        "outputId": "438d5a2b-2247-46b6-f3f2-0faf987ff71e",
        "colab": {
          "base_uri": "https://localhost:8080/",
          "height": 51
        }
      },
      "source": [
        "print(\"The average occupation is\", sum(passengers_stops)/len(passengers_stops))\n",
        "\n",
        "import statistics\n",
        "st_drv = statistics.stdev(passengers_stops)\n",
        "print(\"The standard deviation is\",standard_deviation)"
      ],
      "execution_count": 0,
      "outputs": [
        {
          "output_type": "stream",
          "text": [
            "The average occupation is 9.333333333333334\n",
            "The standard deviation is 3.391164991562634\n"
          ],
          "name": "stdout"
        }
      ]
    }
  ]
}